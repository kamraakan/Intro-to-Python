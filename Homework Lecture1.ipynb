{
 "cells": [
  {
   "cell_type": "markdown",
   "metadata": {},
   "source": [
    "## 1 Describe one difference between compliers and interpreters.\n",
    "\n",
    "compilers: They scan the entire code and translate it as a whole into the machine code.\n",
    "Interpreters: They translate the program by taking a single line at a time"
   ]
  },
  {
   "cell_type": "markdown",
   "metadata": {},
   "source": [
    "## Name one high level language which uses compliers and one that uses interpreters.\n",
    "\n",
    "Compliers: Java\n",
    "Interpreters: Python\n"
   ]
  },
  {
   "cell_type": "markdown",
   "metadata": {},
   "source": [
    "## 3 Write an algorithm for finding a number from a file which has sorted numbers. (Assume you have functions to read the file line by line and one number is written per line)\n",
    "\n",
    "The program will go to each line to check whether the number in each line  matches with the number that requestor is looking for\n",
    "\n"
   ]
  },
  {
   "cell_type": "code",
   "execution_count": 6,
   "metadata": {},
   "outputs": [
    {
     "name": "stdout",
     "output_type": "stream",
     "text": [
      "what is your name?Akki\n",
      "hey there Akki!\n"
     ]
    }
   ],
   "source": [
    "## 4 Write a function that takes name of the person running the program and prints \"Hey there <Name> !\" [Hint: Try str = input(\"Whats your name ? \") ]\n",
    "\n",
    "\n",
    "def fun() :\n",
    "    str = input(\"what is your name?\")\n",
    "    print(\"hey there \" + str + \"!\")\n",
    "fun()"
   ]
  },
  {
   "cell_type": "code",
   "execution_count": 29,
   "metadata": {},
   "outputs": [
    {
     "name": "stdout",
     "output_type": "stream",
     "text": [
      "1\n",
      "8\n",
      "27\n",
      "64\n",
      "125\n",
      "216\n",
      "343\n",
      "512\n",
      "729\n",
      "1000\n",
      "1331\n",
      "1728\n",
      "2197\n",
      "2744\n",
      "3375\n",
      "4096\n",
      "4913\n",
      "5832\n",
      "6859\n",
      "8000\n"
     ]
    }
   ],
   "source": [
    "## 5 Write a function which prints cubes of all values from 1 to 20\n",
    "\n",
    "def cube(n):\n",
    "    for i in range(1,n +1):\n",
    "        print( i**3)\n",
    "    \n",
    "cube(20)\n"
   ]
  },
  {
   "cell_type": "code",
   "execution_count": 42,
   "metadata": {},
   "outputs": [
    {
     "name": "stdout",
     "output_type": "stream",
     "text": [
      "15\n",
      "30\n",
      "45\n",
      "60\n",
      "75\n",
      "90\n"
     ]
    }
   ],
   "source": [
    "## 6 Write a function that prints all numbers from 1 to 100 that are divisble by both 3 and 5 [Hint: Try this out in your notebook 10 % 5== 0 ]\n",
    "\n",
    "def fun(n):\n",
    "    for i in range (1, n+1):\n",
    "        if (i % 5 == 0  and i% 3 == 0): print(i)\n",
    "            \n",
    "fun(100)\n"
   ]
  },
  {
   "cell_type": "code",
   "execution_count": 43,
   "metadata": {},
   "outputs": [
    {
     "name": "stdout",
     "output_type": "stream",
     "text": [
      "6.0\n"
     ]
    }
   ],
   "source": [
    "## 7 Write the output of the expression 2.0 * 5 / 1 - 4, explain why you get the output.\n",
    "## ANS: order of the expression matters, order is parenthesis-> power->Division->multiplication->addition->subtraction(left to right)\n",
    "\n",
    "a= 2.0 * 5 / 1 - 4\n",
    "print(a)"
   ]
  },
  {
   "cell_type": "code",
   "execution_count": 48,
   "metadata": {},
   "outputs": [
    {
     "name": "stdout",
     "output_type": "stream",
     "text": [
      "Please a select a number between 1 and 54\n"
     ]
    },
    {
     "data": {
      "text/plain": [
       "int"
      ]
     },
     "execution_count": 48,
     "metadata": {},
     "output_type": "execute_result"
    }
   ],
   "source": [
    "## 8 Execute the following line and answer the questions\n",
    "### a. Whats the data type of n ? ANS- data type of n is string\n",
    "### b. Whats happens when you do n + 5? ANS - Gives an error- Can't assign to operator\n",
    "### c. Change the line to say n = eval(input(\"Please select a number between 1 and 5\")), now whats the data type of n ?\n",
    "## - ANS- it becomes integer\n",
    "\n",
    "\n",
    "n = eval(input(\"Please a select a number between 1 and 5\"))\n",
    "type(n)"
   ]
  },
  {
   "cell_type": "code",
   "execution_count": 66,
   "metadata": {},
   "outputs": [
    {
     "name": "stdout",
     "output_type": "stream",
     "text": [
      "please enter temp in Celsius14\n",
      "57.2\n"
     ]
    }
   ],
   "source": [
    "\"\"\"1. Write a program to convert temperature that user enters in Celius to Farenhite\n",
    "(No i dont expect you to know the formulae fromthe top of your head, F = 9/5 C + 32)\"\"\"\n",
    "\n",
    "def temp():\n",
    "    C = float(input(\"please enter temp in Celsius\"))\n",
    "    F = (9/5)* C + 32\n",
    "   \n",
    "    print (F)\n",
    "  \n",
    "    \n",
    "temp()\n",
    "\n",
    "\n",
    "    \n"
   ]
  },
  {
   "cell_type": "code",
   "execution_count": 77,
   "metadata": {},
   "outputs": [
    {
     "name": "stdout",
     "output_type": "stream",
     "text": [
      "(15, 5, 50, 2.0, 100000)\n",
      "please enter first num1\n",
      "please enter second num2\n",
      "3\n",
      "please enter first num5\n",
      "please enter second num3\n",
      "2\n",
      "please enter first num2\n",
      "please enter second num4\n",
      "8\n",
      "please enter first num6\n",
      "please enter second num3\n",
      "2.0\n",
      "please enter first num2\n",
      "please enter second num3\n",
      "8\n"
     ]
    }
   ],
   "source": [
    "##2. Write a program for a calculator which can perform addition, subtraction, multiplication, division and exponential. Take the\n",
    "##numbers and the operatation to be performed from the user.\n",
    "\n",
    "\n",
    "def calc(a,b):\n",
    "\n",
    "    x= a+b\n",
    "    y=a-b\n",
    "    z= a*b\n",
    "    d= a/b\n",
    "    e= a**b\n",
    "    return x,y,z,d,e\n",
    "result = calc(10,5)\n",
    "\n",
    "print(result)\n",
    "def add():\n",
    "    a = eval(input(\"please enter first num\"))\n",
    "    b= eval(input(\"please enter second num\"))\n",
    "    result = a+b\n",
    "    print(result)\n",
    "    \n",
    "def sub():\n",
    "    c = eval(input(\"please enter first num\"))\n",
    "    d= eval(input(\"please enter second num\"))\n",
    "    result1 = c-d\n",
    "    print(result1)\n",
    "\n",
    "\n",
    "def mult():\n",
    "    a = eval(input(\"please enter first num\"))\n",
    "    b= eval(input(\"please enter second num\"))\n",
    "    result = a*b\n",
    "    print(result)\n",
    "    \n",
    "def div():\n",
    "    c = eval(input(\"please enter first num\"))\n",
    "    d= eval(input(\"please enter second num\"))\n",
    "    result1 = c/d\n",
    "    print(result1)\n",
    "    \n",
    "def exp():\n",
    "    c = eval(input(\"please enter first num\"))\n",
    "    d= eval(input(\"please enter second num\"))\n",
    "    result1 = c**d\n",
    "    print(result1)\n",
    "\n",
    "add()\n",
    "sub()\n",
    "mult()\n",
    "div()\n",
    "exp()"
   ]
  },
  {
   "cell_type": "code",
   "execution_count": null,
   "metadata": {},
   "outputs": [],
   "source": []
  },
  {
   "cell_type": "code",
   "execution_count": null,
   "metadata": {},
   "outputs": [],
   "source": []
  }
 ],
 "metadata": {
  "kernelspec": {
   "display_name": "Python 3",
   "language": "python",
   "name": "python3"
  },
  "language_info": {
   "codemirror_mode": {
    "name": "ipython",
    "version": 3
   },
   "file_extension": ".py",
   "mimetype": "text/x-python",
   "name": "python",
   "nbconvert_exporter": "python",
   "pygments_lexer": "ipython3",
   "version": "3.6.4"
  }
 },
 "nbformat": 4,
 "nbformat_minor": 2
}
